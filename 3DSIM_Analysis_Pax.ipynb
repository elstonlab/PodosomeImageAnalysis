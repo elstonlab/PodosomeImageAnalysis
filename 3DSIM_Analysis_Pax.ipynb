{
 "cells": [
  {
   "cell_type": "code",
   "execution_count": 9,
   "metadata": {},
   "outputs": [],
   "source": [
    "import matplotlib.pyplot as plt\n",
    "from mpl_toolkits.axes_grid1.axes_divider import make_axes_locatable\n",
    "import numpy as np\n",
    "import scipy as scpy\n",
    "from scipy import stats\n",
    "from scipy import ndimage\n",
    "from skimage.transform import resize\n",
    "from cv2 import cv2\n",
    "\n",
    "import dionysus as d\n",
    "\n",
    "import os\n",
    "import csv\n",
    "import pandas as pd\n",
    "import pickle\n",
    "\n",
    "from sklearn.cluster import KMeans\n",
    "\n",
    "from mpl_toolkits.mplot3d import Axes3D\n",
    "from skimage import io\n",
    "\n",
    "import importlib\n",
    "import helper_functions\n",
    "importlib.reload(helper_functions)\n",
    "from helper_functions import *\n",
    "\n",
    "%matplotlib inline\n",
    "import warnings\n",
    "warnings.filterwarnings('ignore')\n",
    "\n",
    "from matplotlib import rcParams\n",
    "rcParams['pdf.fonttype'] = 42\n",
    "rcParams['ps.fonttype'] = 42\n",
    "rcParams['font.family'] = 'arial'\n",
    "# rcParams['font.sans-serif'] = ['Tahoma']\n",
    "rcParams.update({'font.size': 16})"
   ]
  },
  {
   "cell_type": "code",
   "execution_count": 2,
   "metadata": {},
   "outputs": [],
   "source": [
    "image_loc = '../../../SH-CH/3D-SIM paxillin/'\n",
    "file_name = image_loc\n",
    "path, dirs, files = os.walk(file_name).__next__()\n",
    "len_files = len(files)-1\n",
    "\n",
    "files = [file for file in files if '2um' in file and 'tif' in file]\n",
    "actin_files = [file for file in files if 'C=1' in file]\n",
    "other_files = [file for file in files if 'C=0' in file]\n",
    "file_inds = [file.split(' ')[1].split('_')[0] for file in actin_files]"
   ]
  },
  {
   "cell_type": "code",
   "execution_count": 3,
   "metadata": {},
   "outputs": [],
   "source": [
    "pix_sizes = dict.fromkeys(['017','015','013','011','008','004'] ,30.72/1024)\n",
    "pix_sizes['005'] = 26.34/878\n",
    "pix_sizes['003'] = 14.94/498\n",
    "\n",
    "z_step = 100 #nm"
   ]
  },
  {
   "cell_type": "code",
   "execution_count": 8,
   "metadata": {
    "scrolled": false
   },
   "outputs": [],
   "source": [
    "other_species = 'Paxillin'\n",
    "pod_analysis_distance = 2. #um\n",
    "\n",
    "all_clusters = []\n",
    "all_centers = []\n",
    "for ind in file_inds: #['001','003']:\n",
    "    try:\n",
    "        actin_file = image_loc + [file for file in actin_files if ind in file][0]\n",
    "        print(actin_file)\n",
    "    #     other_file = image_loc + [file for file in other_files if ind in file][0]\n",
    "    #     save_file = save_file_name+ind+'.tif'\n",
    "\n",
    "        actin_stack = io.imread(actin_file)\n",
    "    #     other_stack = io.imread(other_file)\n",
    "\n",
    "        actin = np.mean(actin_stack,axis=0)\n",
    "        plt.figure()\n",
    "        plt.imshow(actin)\n",
    "    #     other = np.mean(other_stack,axis=0)\n",
    "\n",
    "        pix_size = pix_sizes[ind]\n",
    "        len_micron = int(1/pix_size)\n",
    "        pod_filt = int(0.3*len_micron)\n",
    "        site_filt = int(1.5*len_micron)\n",
    "\n",
    "        file_name = ''\n",
    "        pods, sites = find_pod_and_sites_ph(actin,pod_filt,site_filt,plot_bool=False,plot_pers=False,save_file = file_name)\n",
    "        clusters,centers,radii = cluster_refine_pods_and_sites(pods,sites,actin,pix_size,plot_bool=True,save_file = file_name,upper_lim=3,lower_lim=1)\n",
    "        all_clusters.append(clusters)\n",
    "        all_centers.append(centers)\n",
    "        print(ind + ' is done')\n",
    "    except:\n",
    "        print(ind + ' has failed')\n",
    "        continue\n"
   ]
  },
  {
   "cell_type": "code",
   "execution_count": 26,
   "metadata": {},
   "outputs": [],
   "source": [
    "# pickle.dump({'all_clusters':all_clusters,'all_centers':all_centers},open('disc_3DSIM_paxillin_FoundLoc.pickled','wb'))\n"
   ]
  },
  {
   "cell_type": "code",
   "execution_count": 4,
   "metadata": {},
   "outputs": [],
   "source": [
    "stored_results = pickle.load(open('disc_3DSIM_paxillin_FoundLoc.pickled','rb'))\n",
    "all_clusters = stored_results[\"all_clusters\"]\n",
    "all_centers = stored_results[\"all_centers\"]"
   ]
  },
  {
   "cell_type": "markdown",
   "metadata": {},
   "source": [
    "### Get perpendicular line scan heatmaps for 3D SIM on IgG disks"
   ]
  },
  {
   "cell_type": "code",
   "execution_count": 31,
   "metadata": {},
   "outputs": [],
   "source": [
    "def out_in_stack_array(in_dist, out_dist):\n",
    "    #vstack versus hstack may depend on how the dimensions of the matrix\n",
    "    return([np.hstack([in_dist[i][:,:0:-1],out_dist[i]]) for i in range(len(in_dist))])"
   ]
  },
  {
   "cell_type": "code",
   "execution_count": null,
   "metadata": {},
   "outputs": [],
   "source": [
    "all_perp_ls_act=[]\n",
    "all_perp_ls_other = []\n",
    "\n",
    "for j,ind in enumerate(file_inds):\n",
    "    actin_file = image_loc + [file for file in actin_files if ind in file][0]\n",
    "    other_file = image_loc + [file for file in other_files if ind in file][0]\n",
    "\n",
    "    actin_stack = io.imread(actin_file)\n",
    "    other_stack = io.imread(other_file)\n",
    "    pix_size = pix_sizes[ind]\n",
    "    \n",
    "        \n",
    "    act_ins = []\n",
    "    act_outs = []\n",
    "\n",
    "    other_ins = []\n",
    "    other_outs = []\n",
    "    \n",
    "    clusters = all_clusters[j]\n",
    "    centers = all_centers[j]\n",
    "\n",
    "    for i,image in enumerate(actin_stack):\n",
    " \n",
    "        actin=image\n",
    "        other = other_stack[i]\n",
    "\n",
    "\n",
    "        dist_um = 1.\n",
    "        out_actin, in_actin = out_in_scans_from_pods(actin,centers,clusters,pix_size,dist_um)\n",
    "        out_other, in_other = out_in_scans_from_pods(other,centers,clusters,pix_size,dist_um)\n",
    "\n",
    "        act_ins.append(in_actin)\n",
    "        act_outs.append(out_actin)\n",
    "\n",
    "        other_ins.append(in_other)\n",
    "        other_outs.append(out_other)\n",
    "        \n",
    "    all_perp_ls_act.append(out_in_stack_array(act_ins, act_outs))\n",
    "    all_perp_ls_other.append(out_in_stack_array(other_ins, other_outs))   \n"
   ]
  },
  {
   "cell_type": "code",
   "execution_count": 13,
   "metadata": {},
   "outputs": [],
   "source": [
    "perp_ls_act_mean = []\n",
    "perp_ls_other_mean = []\n",
    "for i in range(4):\n",
    "    perp_ls_act_mean.append(np.mean(all_perp_ls_act[i],axis=1))\n",
    "    perp_ls_other_mean.append(np.mean(all_perp_ls_other[i],axis=1))"
   ]
  },
  {
   "cell_type": "code",
   "execution_count": 16,
   "metadata": {},
   "outputs": [
    {
     "data": {
      "image/png": "[encoded data removed]",
      "text/plain": [
       "<Figure size 216x288 with 2 Axes>"
      ]
     },
     "metadata": {
      "needs_background": "light"
     },
     "output_type": "display_data"
    },
    {
     "data": {
      "image/png": "[encoded data removed]",
      "text/plain": [
       "<Figure size 216x288 with 2 Axes>"
      ]
     },
     "metadata": {
      "needs_background": "light"
     },
     "output_type": "display_data"
    },
    {
     "data": {
      "image/png": "[encoded data removed]",
      "text/plain": [
       "<Figure size 216x288 with 2 Axes>"
      ]
     },
     "metadata": {
      "needs_background": "light"
     },
     "output_type": "display_data"
    },
    {
     "data": {
      "image/png": "[encoded data removed]",
      "text/plain": [
       "<Figure size 216x288 with 2 Axes>"
      ]
     },
     "metadata": {
      "needs_background": "light"
     },
     "output_type": "display_data"
    }
   ],
   "source": [
    "for i in range(4):\n",
    "\n",
    "    plt.figure(figsize=(3.,4.))\n",
    "    x = np.linspace(-1000, 1000, len(perp_ls_act_mean[i][0].T))\n",
    "    y = np.linspace(0, len(perp_ls_act_mean[i])*z_step, len(perp_ls_act_mean[i]))\n",
    "    X, Y = np.meshgrid(x, y)\n",
    "\n",
    "\n",
    "    plt.imshow(max_min_scaled(perp_ls_other_mean[i]),extent=[-1000,1000,0,len(perp_ls_act_mean[i])*z_step],aspect=1,origin='lower',interpolation='none',cmap=plt.cm.viridis)\n",
    "\n",
    "    # plt.imshow(max_min_scaled(np.mean(perp_ls_act_same,axis=1)),extent=[-1000,1000,0,100*len(actin_stack)],aspect=2,origin='lower',interpolation='none',cmap=plt.cm.afmhot)\n",
    "    plt.colorbar(fraction=0.025, pad=0.04)\n",
    "    \n",
    "    CS = plt.contour(X,Y,max_min_scaled(perp_ls_act_mean[i]),levels=np.array([0.7]), colors='m', linestyles=':')\n",
    "\n",
    "    plt.title('File: %s Perp. LS Paxillin N = %i ' %(file_inds[i],np.shape(all_perp_ls_act[i])[1]),y=1.04)\n",
    "    plt.ylabel('Height Z (nm)')\n",
    "    plt.xlabel('Distance from Podosome (nm) ')\n",
    "    plt.tight_layout()\n",
    "#     plt.savefig('../../../SH-CH/WorkingFiguresCurrent/Figure6_AdhesionAndCap/IndividualPlots/Disc_3DSIM_pax_PerpLS_File%s.pdf' %file_inds[i],transparent=True,dpi=300,bbox_inches='tight')\n"
   ]
  },
  {
   "cell_type": "markdown",
   "metadata": {},
   "source": [
    "### Get mirrored radial averaging heatmaps for 3D SIM on Uniform IgG"
   ]
  },
  {
   "cell_type": "code",
   "execution_count": 18,
   "metadata": {},
   "outputs": [
    {
     "name": "stdout",
     "output_type": "stream",
     "text": [
      "['009', '001', '003']\n"
     ]
    }
   ],
   "source": [
    "image_loc = '../../../SH-CH/3D-SIM paxillin/UniformIgG/'\n",
    "file_name = image_loc\n",
    "path, dirs, files = os.walk(file_name).__next__()\n",
    "len_files = len(files)-1\n",
    "\n",
    "files = [file for file in files if 'tif' in file]\n",
    "actin_files = [file for file in files if 'C=1' in file]\n",
    "other_files = [file for file in files if 'C=0' in file]\n",
    "file_inds = [file.split(' ')[1].split('_')[0] for file in actin_files]"
   ]
  },
  {
   "cell_type": "code",
   "execution_count": 19,
   "metadata": {},
   "outputs": [],
   "source": [
    "pix_sizes = dict.fromkeys(['009','001'] ,30.72/1024)\n",
    "\n",
    "pix_sizes['003'] = 17.01/567\n",
    "\n",
    "z_step = 100 #nm"
   ]
  },
  {
   "cell_type": "code",
   "execution_count": null,
   "metadata": {},
   "outputs": [],
   "source": [
    "other_species = 'Paxillin'\n",
    "pod_analysis_distance = 2. #um\n",
    "\n",
    "all_clusters = []\n",
    "all_centers = []\n",
    "\n",
    "all_pods = []\n",
    "all_sites = []\n",
    "for ind in file_inds: #['008'],'003']:\n",
    "    try:\n",
    "        actin_file = image_loc + [file for file in actin_files if ind in file][0]\n",
    "        print(actin_file)\n",
    "    #     other_file = image_loc + [file for file in other_files if ind in file][0]\n",
    "    #     save_file = save_file_name+ind+'.tif'\n",
    "\n",
    "        actin_stack = io.imread(actin_file)\n",
    "    #     other_stack = io.imread(other_file)\n",
    "\n",
    "        actin = np.mean(actin_stack,axis=0)\n",
    "        plt.figure()\n",
    "        plt.imshow(actin)\n",
    "    #     other = np.mean(other_stack,axis=0)\n",
    "\n",
    "        pix_size = pix_sizes[ind]\n",
    "        len_micron = int(1/pix_size)\n",
    "        pod_filt = int(0.5*len_micron)\n",
    "        site_filt = int(1.5*len_micron)\n",
    "\n",
    "        file_name = ''\n",
    "        pods, sites = find_pod_and_sites_tda(actin,pod_filt,site_filt,plot_bool=False,plot_pers=False,save_file = file_name)\n",
    "        all_pods.append([pods])\n",
    "        all_sites.append([sites])\n",
    "\n",
    "        print(ind + ' is done')\n",
    "    except:\n",
    "        print(ind + ' has failed')\n",
    "        continue\n",
    "\n"
   ]
  },
  {
   "cell_type": "code",
   "execution_count": 20,
   "metadata": {},
   "outputs": [],
   "source": [
    "# pickle.dump({'all_pods':all_pods,'all_sites':all_sites},open('uniform_3DSIM_pax_FoundLoc.pickled','wb'))\n",
    "\n",
    "stored_results = pickle.load(open('uniform_3DSIM_pax_FoundLoc.pickled','rb'))\n",
    "all_pods = stored_results[\"all_pods\"]\n",
    "all_sites = stored_results[\"all_sites\"]"
   ]
  },
  {
   "cell_type": "code",
   "execution_count": 21,
   "metadata": {},
   "outputs": [],
   "source": [
    "all_rad_act = []\n",
    "all_rad_other = []\n",
    "# plt.figure()\n",
    "for j,ind in enumerate(file_inds):\n",
    "    \n",
    "    actin_file = image_loc + [file for file in actin_files if ind in file][0]\n",
    "    other_file = image_loc + [file for file in other_files if ind in file][0]\n",
    "#     save_file = save_file_name+ind+'.tif'\n",
    "\n",
    "    actin_stack = io.imread(actin_file)\n",
    "    other_stack = io.imread(other_file)\n",
    "    \n",
    "    pix_size = pix_sizes[ind]\n",
    "\n",
    "    rad_act=[]\n",
    "    rad_other = []\n",
    "    for i,image in enumerate(actin_stack):\n",
    "\n",
    "        actin=image\n",
    "        other = other_stack[i]\n",
    "\n",
    "        #clusters = all_clusters[j]\n",
    "#         clusters = np.vstack(clusters)\n",
    "        podosome_centers = np.array(all_pods[j]) #np.vstack(clusters) #np.array([list(point) for cluster in clusters for point in cluster])\n",
    "        cxs = podosome_centers.T[0]\n",
    "        cys = podosome_centers.T[1]\n",
    "\n",
    "        rad_profs_act, x_ums = radial_averaging_from_pods(cxs,cys,actin,pix_size,1.)\n",
    "        rad_profs_other, x_ums = radial_averaging_from_pods(cxs,cys,other,pix_size,1.)\n",
    "\n",
    "        rad_act.append(rad_profs_act)\n",
    "        rad_other.append(rad_profs_other)\n",
    "    all_rad_act.append(rad_act)\n",
    "    all_rad_other.append(rad_other)"
   ]
  },
  {
   "cell_type": "code",
   "execution_count": 26,
   "metadata": {},
   "outputs": [],
   "source": [
    "def out_in_stack(in_dist, out_dist):\n",
    "    return([np.hstack([in_dist[i][:1:-1],out_dist[i]]) for i in range(len(in_dist))])"
   ]
  },
  {
   "cell_type": "code",
   "execution_count": 29,
   "metadata": {},
   "outputs": [],
   "source": [
    "rad_act_mean = []\n",
    "rad_other_mean = []\n",
    "for i in range(3):\n",
    "    rad_act_mean.append(np.mean(all_rad_act[i],axis=1))\n",
    "    rad_other_mean.append(np.mean(all_rad_other[i],axis=1))"
   ]
  },
  {
   "cell_type": "code",
   "execution_count": 30,
   "metadata": {},
   "outputs": [
    {
     "data": {
      "image/png": "[encoded data removed]",
      "text/plain": [
       "<Figure size 216x288 with 2 Axes>"
      ]
     },
     "metadata": {
      "needs_background": "light"
     },
     "output_type": "display_data"
    },
    {
     "data": {
      "image/png": "[encoded data removed]",
      "text/plain": [
       "<Figure size 216x288 with 2 Axes>"
      ]
     },
     "metadata": {
      "needs_background": "light"
     },
     "output_type": "display_data"
    },
    {
     "data": {
      "image/png": "[encoded data removed]",
      "text/plain": [
       "<Figure size 216x288 with 2 Axes>"
      ]
     },
     "metadata": {
      "needs_background": "light"
     },
     "output_type": "display_data"
    }
   ],
   "source": [
    "for i in range(3):\n",
    "\n",
    "    plt.figure(figsize=(3.,4.))\n",
    "    \n",
    "    average_radial = rad_act_mean[i]\n",
    "    average_radial_mirrored = out_in_stack(average_radial,average_radial) #np.hstack([average_radial.T[:-1][::-1].T,average_radial])\n",
    "\n",
    "    average_radial_other = rad_other_mean[i]\n",
    "    average_radial_other_mirrored = out_in_stack(average_radial_other,average_radial_other) #np.hstack([average_radial.T[:-1][::-1].T,average_radial])\n",
    "\n",
    "    x = np.linspace(-1000, 1000, len(average_radial_mirrored[0].T))\n",
    "    y = np.linspace(0, len(average_radial_mirrored)*z_step, len(average_radial_mirrored))\n",
    "    X, Y = np.meshgrid(x, y)\n",
    "\n",
    "\n",
    "    plt.imshow(max_min_scaled(average_radial_other_mirrored),extent=[-1000,1000,0,len(average_radial)*z_step],aspect=1,origin='lower',interpolation='none',cmap=plt.cm.viridis)\n",
    "\n",
    "    # plt.imshow(max_min_scaled(np.mean(perp_ls_act_same,axis=1)),extent=[-1000,1000,0,100*len(actin_stack)],aspect=2,origin='lower',interpolation='none',cmap=plt.cm.afmhot)\n",
    "    plt.colorbar(fraction=0.025, pad=0.04)\n",
    "    \n",
    "    CS = plt.contour(X,Y,max_min_scaled(average_radial_mirrored),levels=np.array([0.7]), colors='m', linestyles=':')\n",
    "\n",
    "    plt.title('File: %s Mirror Rad. Avg. N = %i ' %(file_inds[i],np.shape(all_rad_act[i])[1]),y=1.04)\n",
    "    plt.ylabel('Height Z (nm)')\n",
    "    plt.xlabel('Distance from Podosome (nm) ')\n",
    "    plt.tight_layout()\n",
    "#     plt.savefig('../../../SH-CH/WorkingFiguresCurrent/Figure6_AdhesionAndCap/IndividualPlots/Uniform_3DSIM_paxillin_MirrorRadAvg_File%s.pdf' %file_inds[i],transparent=True,dpi=300,bbox_inches='tight')\n"
   ]
  }
 ],
 "metadata": {
  "kernelspec": {
   "display_name": "Python 3",
   "language": "python",
   "name": "python3"
  },
  "language_info": {
   "codemirror_mode": {
    "name": "ipython",
    "version": 3
   },
   "file_extension": ".py",
   "mimetype": "text/x-python",
   "name": "python",
   "nbconvert_exporter": "python",
   "pygments_lexer": "ipython3",
   "version": "3.8.5"
  }
 },
 "nbformat": 4,
 "nbformat_minor": 1
}
