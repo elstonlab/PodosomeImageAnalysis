{
 "cells": [
  {
   "cell_type": "code",
   "execution_count": 1,
   "metadata": {},
   "outputs": [],
   "source": [
    "import matplotlib.pyplot as plt\n",
    "import numpy as np\n",
    "import scipy as scpy\n",
    "from scipy import stats\n",
    "from scipy import ndimage\n",
    "from scipy.interpolate import griddata\n",
    "from skimage.transform import resize\n",
    "\n",
    "\n",
    "import dionysus as d\n",
    "\n",
    "import os\n",
    "import csv\n",
    "import pandas as pd\n",
    "import seaborn as sns\n",
    "import pickle\n",
    "\n",
    "from sklearn.cluster import KMeans\n",
    "\n",
    "from mpl_toolkits.mplot3d import Axes3D\n",
    "from skimage import io\n",
    "\n",
    "import importlib\n",
    "import helper_functions\n",
    "importlib.reload(helper_functions)\n",
    "from helper_functions import *\n",
    "\n",
    "# %matplotlib notebook\n",
    "import warnings\n",
    "warnings.filterwarnings('ignore')\n",
    "\n",
    "from matplotlib import rcParams\n",
    "rcParams['pdf.fonttype'] = 42\n",
    "rcParams['ps.fonttype'] = 42\n",
    "rcParams['font.family'] = 'arial'\n",
    "# rcParams['font.sans-serif'] = ['Tahoma']\n",
    "rcParams.update({'font.size': 16})"
   ]
  },
  {
   "cell_type": "code",
   "execution_count": 2,
   "metadata": {},
   "outputs": [],
   "source": [
    "def pol2cart(rho, phi):\n",
    "    x = rho * np.cos(phi)\n",
    "    y = rho * np.sin(phi)\n",
    "    return(x, y)\n",
    "\n",
    "def max_min_scaled(dist):\n",
    "    return((dist-np.min(dist))/(np.max(dist)-np.min(dist)))"
   ]
  },
  {
   "cell_type": "code",
   "execution_count": 4,
   "metadata": {},
   "outputs": [],
   "source": [
    "average_radial = pickle.load(open('RadialAveragingPodosome0to600nm.p','rb'))"
   ]
  },
  {
   "cell_type": "code",
   "execution_count": 6,
   "metadata": {},
   "outputs": [],
   "source": [
    "pix_size = 0.01\n",
    "\n",
    "nr = len(average_radial.T)\n",
    "nh = len(average_radial)\n",
    "ntheta = 102\n",
    "max_r = len(average_radial.T)*pix_size*1000\n",
    "r,h,t = np.ogrid[0:max_r:nr+0j, 0:450:nh+0j,0:2*np.pi:ntheta+0j]\n"
   ]
  },
  {
   "cell_type": "code",
   "execution_count": 11,
   "metadata": {},
   "outputs": [],
   "source": [
    "rs = np.linspace(0,max_r,len(average_radial.T))\n",
    "hs = np.linspace(0,10*(len(average_radial)-1),len(average_radial))\n",
    "nthetas = 360+1\n",
    "thetas = np.radians(np.linspace(0,360,nthetas))\n",
    "average_radial_polar = np.dstack([average_radial]*nthetas)"
   ]
  },
  {
   "cell_type": "code",
   "execution_count": 8,
   "metadata": {},
   "outputs": [],
   "source": [
    "# Polar meshgrid\n",
    "rad_c, theta_c = np.meshgrid(rs, thetas)\n",
    "\n",
    "# Cartesian equivalents of polar co-ordinates\n",
    "X = rad_c*np.cos(theta_c)\n",
    "Y = rad_c*np.sin(theta_c)\n",
    "\n",
    "# Cartesian (x/y) meshgrid\n",
    "grid_spacing = 8.0   # You can change this\n",
    "nx = (X.max() - X.min())/grid_spacing\n",
    "ny = (Y.max() - Y.min())/grid_spacing\n",
    "x = np.arange(X.min(), X.max() + grid_spacing, grid_spacing)\n",
    "y = np.arange(Y.min(), Y.max() + grid_spacing, grid_spacing)\n",
    "grid_x, grid_y = np.meshgrid(x, y)\n",
    "\n",
    "# Interpolate from polar to cartesian grid\n",
    "new_grid = griddata(\n",
    "    (X.flatten(), Y.flatten()),\n",
    "    average_radial_polar[40].T.flatten(),\n",
    "    (grid_x, grid_y),\n",
    "    method='cubic'\n",
    ")\n",
    "\n"
   ]
  },
  {
   "cell_type": "code",
   "execution_count": 9,
   "metadata": {},
   "outputs": [],
   "source": [
    "stacked_pod_object = []\n",
    "for i in range(len(average_radial_polar)):\n",
    "    new_grid = griddata(\n",
    "    (X.flatten(), Y.flatten()),\n",
    "    average_radial_polar[i].T.flatten(),\n",
    "    (grid_x, grid_y),\n",
    "    method='cubic')\n",
    "    \n",
    "    stacked_pod_object.append(new_grid)"
   ]
  },
  {
   "cell_type": "code",
   "execution_count": 12,
   "metadata": {},
   "outputs": [],
   "source": [
    "stacked_pod_object = np.array(stacked_pod_object)\n",
    "stacked_pod_object = np.nan_to_num(stacked_pod_object)\n",
    "stacked_pod_object = max_min_scaled(stacked_pod_object)"
   ]
  },
  {
   "cell_type": "code",
   "execution_count": 23,
   "metadata": {},
   "outputs": [],
   "source": [
    "pickle.dump(max_min_scaled(scpy.ndimage.gaussian_filter(stacked_pod_object,2)), open( \"stacked_pod_object_cart_slice.p\", \"wb\" ) )\n"
   ]
  }
 ],
 "metadata": {
  "kernelspec": {
   "display_name": "Python 3",
   "language": "python",
   "name": "python3"
  },
  "language_info": {
   "codemirror_mode": {
    "name": "ipython",
    "version": 3
   },
   "file_extension": ".py",
   "mimetype": "text/x-python",
   "name": "python",
   "nbconvert_exporter": "python",
   "pygments_lexer": "ipython3",
   "version": "3.8.5"
  }
 },
 "nbformat": 4,
 "nbformat_minor": 1
}
